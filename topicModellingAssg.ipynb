{
 "cells": [
  {
   "cell_type": "code",
   "execution_count": 1,
   "metadata": {
    "collapsed": true
   },
   "outputs": [],
   "source": [
    "from gensim import corpora"
   ]
  },
  {
   "cell_type": "code",
   "execution_count": 2,
   "metadata": {
    "collapsed": true
   },
   "outputs": [],
   "source": [
    "from gensim.corpora import Dictionary\n",
    "from gensim.models import ldamodel\n",
    "from gensim.models import hdpmodel\n",
    "import numpy\n",
    "%matplotlib inline"
   ]
  },
  {
   "cell_type": "code",
   "execution_count": 14,
   "metadata": {
    "collapsed": false
   },
   "outputs": [
    {
     "data": {
      "text/plain": [
       "(['bank', 'river', 'shore', 'water'],\n",
       " ['money', 'transaction', 'bank', 'finance'])"
      ]
     },
     "execution_count": 14,
     "metadata": {},
     "output_type": "execute_result"
    },
    {
     "name": "stdout",
     "output_type": "stream",
     "text": [
      "The history saving thread hit an unexpected error (OperationalError('database is locked',)).History will not be written to the database.\n"
     ]
    }
   ],
   "source": [
    "texts = [['bank','river','shore','water'],\n",
    "        ['river','water','flow','fast','tree'],\n",
    "        ['bank','water','fall','flow'],\n",
    "        ['bank','bank','water','rain','river'],\n",
    "        ['river','water','mud','tree'],\n",
    "        ['money','transaction','bank','finance'],\n",
    "        ['bank','borrow','money'], \n",
    "        ['bank','finance'],\n",
    "        ['finance','money','sell','bank'],\n",
    "        ['borrow','sell'],\n",
    "        ['bank','loan','sell']]\n",
    "\n",
    "dictionary = Dictionary(texts)\n",
    "corpus = [dictionary.doc2bow(text) for text in texts]\n",
    "corpus\n",
    "texts[0],texts[5]"
   ]
  },
  {
   "cell_type": "code",
   "execution_count": 17,
   "metadata": {
    "collapsed": true
   },
   "outputs": [],
   "source": [
    "numpy.random.seed(1) # setting random seed to get the same results each time.\n",
    "model = ldamodel.LdaModel(corpus, id2word=dictionary, num_topics=4)"
   ]
  },
  {
   "cell_type": "code",
   "execution_count": 7,
   "metadata": {
    "collapsed": false
   },
   "outputs": [
    {
     "data": {
      "text/plain": [
       "[(0, 0.13942064107644039), (1, 0.069201029923276924), (3, 0.03657054937012201)]"
      ]
     },
     "execution_count": 7,
     "metadata": {},
     "output_type": "execute_result"
    }
   ],
   "source": [
    "model.get_term_topics('sell')"
   ]
  },
  {
   "cell_type": "code",
   "execution_count": 8,
   "metadata": {
    "collapsed": true
   },
   "outputs": [],
   "source": [
    "bow_water = ['bank','water','bank']\n",
    "bow_finance = ['bank','finance','bank']"
   ]
  },
  {
   "cell_type": "code",
   "execution_count": 11,
   "metadata": {
    "collapsed": false
   },
   "outputs": [
    {
     "name": "stdout",
     "output_type": "stream",
     "text": [
      "[(0, [3]), (3, [3])] [(0, 0.062591561934173659), (1, 0.064229787863717497), (2, 0.064438752830500198), (3, 0.80873989737160867)]\n"
     ]
    }
   ],
   "source": [
    "bow = model.id2word.doc2bow(bow_water) # convert to bag of words format first\n",
    "doc_topics, word_topics, phi_values = model.get_document_topics(bow, per_word_topics=True)\n",
    "\n",
    "print word_topics, doc_topics"
   ]
  },
  {
   "cell_type": "code",
   "execution_count": 15,
   "metadata": {
    "collapsed": false
   },
   "outputs": [
    {
     "name": "stdout",
     "output_type": "stream",
     "text": [
      "(3, [(0, 0.087450482404333049), (1, 0.13802137769651487), (3, 0.033851369357674882)])\n",
      "(1, [(3, 0.033844830060280114)])\n",
      "(2, [(2, 0.070358354770645157), (3, 0.079739817606130636)])\n",
      "(1, [(3, 0.12646650319202635)])\n",
      "(2, [(2, 0.070449693203531616), (5, 0.11570718106273503)])\n",
      "(1, [(1, 0.13783711984772992)])\n",
      "(2, [(0, 0.087642017912832049), (2, 0.070418343129691613)])\n",
      "(2, [(0, 0.087405471920105504), (2, 0.070349887295739363)])\n",
      "(1, [(2, 0.070400824114414534)])\n",
      "(4, [(0, 0.087835497693655382), (2, 0.070504835132239832), (3, 0.079828671252727426), (5, 0.115923700686338)])\n",
      "(1, [(5, 0.11557888371581872)])\n",
      "(1, [(3, 0.033833393877440866)])\n",
      "(1, [(3, 0.033848046143450918)])\n",
      "(1, [(0, 0.087356940413099451)])\n",
      "(3, [(2, 0.070503248707027358), (3, 0.079828167277853065), (5, 0.11585616364595336)])\n",
      "(4, [(0, 0.087904791442497215), (1, 0.13839835063131986), (2, 0.070578203728949684), (3, 0.2680180061560179)])\n"
     ]
    },
    {
     "data": {
      "text/plain": [
       "4"
      ]
     },
     "execution_count": 15,
     "metadata": {},
     "output_type": "execute_result"
    }
   ],
   "source": [
    "uniqWords = set()\n",
    "for item in texts:\n",
    "    for stuff in item:\n",
    "        uniqWords.add(stuff)\n",
    "twoTop = 0\n",
    "for item in uniqWords:\n",
    "    print(len(model.get_term_topics(item)),model.get_term_topics(item))\n",
    "    if len(model.get_term_topics(item)) == 2:\n",
    "        twoTop += 1\n",
    "twoTop"
   ]
  },
  {
   "cell_type": "markdown",
   "metadata": {},
   "source": [
    "## Document Similarity"
   ]
  },
  {
   "cell_type": "code",
   "execution_count": null,
   "metadata": {
    "collapsed": true
   },
   "outputs": [],
   "source": [
    "all_topics = model.get_document_topics(corpus, per_word_topics=True)\n",
    "from gensim import matutils\n",
    "i = -1\n",
    "scores = dict()\n",
    "for doc_topics, word_topics, phi_values in all_topics:\n",
    "    i += 1\n",
    "    j = -1\n",
    "    for doc_topics2, word_topics2, phi_values2 in all_topics:\n",
    "        j += 1\n",
    "        print i,j,matutils.cossim(doc_topics, doc_topics2)\n",
    "        try:\n",
    "            scores[matutils.cossim(doc_topics, doc_topics2)].append(str(i)+'_'+str(j))\n",
    "        except:\n",
    "            scores[matutils.cossim(doc_topics, doc_topics2)] = list()\n",
    "            scores[matutils.cossim(doc_topics, doc_topics2)].append(str(i)+'_'+str(j))\n"
   ]
  }
 ],
 "metadata": {
  "anaconda-cloud": {},
  "kernelspec": {
   "display_name": "Python [default]",
   "language": "python",
   "name": "python2"
  },
  "language_info": {
   "codemirror_mode": {
    "name": "ipython",
    "version": 2
   },
   "file_extension": ".py",
   "mimetype": "text/x-python",
   "name": "python",
   "nbconvert_exporter": "python",
   "pygments_lexer": "ipython2",
   "version": "2.7.12"
  }
 },
 "nbformat": 4,
 "nbformat_minor": 1
}
