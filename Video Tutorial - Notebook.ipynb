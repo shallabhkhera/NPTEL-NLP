{
 "cells": [
  {
   "cell_type": "markdown",
   "metadata": {
    "nbpresent": {
     "id": "ff882d66-e7dd-4a05-a580-781e9acebe5c"
    }
   },
   "source": [
    "<h1 align=\"center\"> Introduction to Jupyter Notebook </h1>\n",
    "<img src=\"jupyter2.png\">"
   ]
  },
  {
   "cell_type": "markdown",
   "metadata": {
    "nbpresent": {
     "id": "bfaef5cb-ebce-4db9-a14f-2faf8af2834e"
    }
   },
   "source": [
    "### Python - My favourite Calculator"
   ]
  },
  {
   "cell_type": "code",
   "execution_count": 7,
   "metadata": {
    "collapsed": false,
    "nbpresent": {
     "id": "24f16a26-1dfa-4e3a-8226-fe1e55d05318"
    }
   },
   "outputs": [
    {
     "data": {
      "text/plain": [
       "861000"
      ]
     },
     "execution_count": 7,
     "metadata": {},
     "output_type": "execute_result"
    }
   ],
   "source": [
    "875 * 984"
   ]
  },
  {
   "cell_type": "code",
   "execution_count": 8,
   "metadata": {
    "collapsed": false
   },
   "outputs": [
    {
     "name": "stdout",
     "output_type": "stream",
     "text": [
      "1859\n"
     ]
    }
   ],
   "source": [
    "#using variables\n",
    "a = 875\n",
    "b = 984\n",
    "c = a + b\n",
    "\n",
    "print  c"
   ]
  },
  {
   "cell_type": "code",
   "execution_count": 9,
   "metadata": {
    "collapsed": false
   },
   "outputs": [
    {
     "name": "stdout",
     "output_type": "stream",
     "text": [
      "Hello World\n"
     ]
    }
   ],
   "source": [
    "# Using strings\n",
    "a = \"Hello \"\n",
    "b = \"World\"\n",
    "\n",
    "c = a + b\n",
    "print c"
   ]
  },
  {
   "cell_type": "code",
   "execution_count": 10,
   "metadata": {
    "collapsed": false
   },
   "outputs": [
    {
     "name": "stdout",
     "output_type": "stream",
     "text": [
      "Hello NPTEL\n"
     ]
    }
   ],
   "source": [
    "print a + \"NPTEL\""
   ]
  },
  {
   "cell_type": "markdown",
   "metadata": {},
   "source": [
    "### \"IF\"s and <s>Buts</s> \"FOR\"s - Mind the intendation"
   ]
  },
  {
   "cell_type": "code",
   "execution_count": 11,
   "metadata": {
    "collapsed": false
   },
   "outputs": [
    {
     "name": "stdout",
     "output_type": "stream",
     "text": [
      "1 2\n"
     ]
    }
   ],
   "source": [
    "if a == \"Hello \":\n",
    "    b = 1\n",
    "    c = 2\n",
    "else:\n",
    "    b = 10\n",
    "    c = 11\n",
    "    \n",
    "print b,c"
   ]
  },
  {
   "cell_type": "code",
   "execution_count": 12,
   "metadata": {
    "collapsed": false
   },
   "outputs": [
    {
     "name": "stdout",
     "output_type": "stream",
     "text": [
      "1\n",
      "2\n",
      "3\n",
      "4\n"
     ]
    }
   ],
   "source": [
    "for i in range(1,5):\n",
    "    print i"
   ]
  },
  {
   "cell_type": "markdown",
   "metadata": {},
   "source": [
    "## Functions / Methods in Python\n",
    "\n",
    "### Edit Distance -  Distance\n",
    "- Week 2 Lecture 1\n",
    "- Method to compare two strings\n",
    "- Minimum distance between two strings is the \n",
    "- minimum number of editing operations/sum of costs of operations\n",
    "- 3 Operations\n",
    "    - Insertion, \n",
    "    - Deletion\n",
    "    - Substitution\n"
   ]
  },
  {
   "cell_type": "code",
   "execution_count": 13,
   "metadata": {
    "collapsed": true
   },
   "outputs": [],
   "source": [
    "# Function Definition starts with def <function name> (<input arguments>)\n",
    "# 2 strings to comapre, hence 2 inputs as arguments\n",
    "\n",
    "# mind the indentation\n",
    "def levenshtein(s1, s2):\n",
    "    if len(s1) < len(s2):\n",
    "        return levenshtein(s2, s1)\n",
    "\n",
    "    # len(s1) >= len(s2)\n",
    "    if len(s2) == 0:\n",
    "        return len(s1)\n",
    "\n",
    "    previous_row = range(len(s2) + 1)\n",
    "\n",
    "    for i, c1 in enumerate(s1):\n",
    "        current_row = [i + 1]\n",
    "        for j, c2 in enumerate(s2):\n",
    "            # cost for each of 3 operations.\n",
    "            insertions = previous_row[j + 1] + 1 # j+1 instead of j since previous_row and current_row are one character longer\n",
    "            deletions = current_row[j] + 1       # than s2\n",
    "            substitutions = previous_row[j] + (c1 != c2) # if true returns one, oterwise 0\n",
    "            \n",
    "            current_row.append(min(insertions, deletions, substitutions))\n",
    "        previous_row = current_row\n",
    "    \n",
    "    return previous_row[-1]\n"
   ]
  },
  {
   "cell_type": "code",
   "execution_count": 14,
   "metadata": {
    "collapsed": false
   },
   "outputs": [
    {
     "data": {
      "text/plain": [
       "1"
      ]
     },
     "execution_count": 14,
     "metadata": {},
     "output_type": "execute_result"
    }
   ],
   "source": [
    "levenshtein('Hellp','Hello')"
   ]
  },
  {
   "cell_type": "markdown",
   "metadata": {},
   "source": [
    "### Jaro Winkler Distance\n",
    "\n",
    "The Jaro–Winkler distance is a measure of similarity between two strings.  The Jaro-Winkler similarity is given by `1 - Jaro Winkler distance`. The Jaro–Winkler distance metric is designed and best suited for short strings such as person names. The similarity score is normalized such that 0 equates to no similarity and 1 is an exact match.\n",
    "\n",
    "$ d_{j}=\\left\\{{\\begin{array}{ll}0&{\\text{if }}m=0\\\\{\\frac  {1}{3}}\\left({\\frac  {m}{|s_{1}|}}+{\\frac  {m}{|s_{2}|}}+{\\frac  {m-t}{m}}\\right)&{\\text{otherwise}}\\end{array}}\\right. $\n",
    "\n",
    "\n",
    "Where \n",
    "- **s1** and **s2** are the strings \n",
    "- **m** is the number of matching characters (see below);\n",
    "- **t** is half the number of transpositions (see below).\n",
    "\n",
    "Source - [Jaro-Winkler Distance (Wikipedia)](https://en.wikipedia.org/wiki/Jaro%E2%80%93Winkler_distance)"
   ]
  },
  {
   "cell_type": "code",
   "execution_count": 15,
   "metadata": {
    "collapsed": false
   },
   "outputs": [
    {
     "name": "stdout",
     "output_type": "stream",
     "text": [
      "0.866666666667\n"
     ]
    }
   ],
   "source": [
    "#The Edistance.py file is already included in your assignment files\n",
    "from Edistance import jaro_winkler\n",
    "\n",
    "print jaro_winkler('bimal','vimal')"
   ]
  },
  {
   "cell_type": "markdown",
   "metadata": {},
   "source": [
    "## Handling Files"
   ]
  },
  {
   "cell_type": "code",
   "execution_count": 16,
   "metadata": {
    "collapsed": false
   },
   "outputs": [
    {
     "name": "stdout",
     "output_type": "stream",
     "text": [
      "<type 'list'>\n"
     ]
    }
   ],
   "source": [
    "# open a file, read its contents and split the contents line by line\n",
    "unigrams = open('unigram.csv').read().splitlines()\n",
    "\n",
    "print type(unigrams)"
   ]
  },
  {
   "cell_type": "code",
   "execution_count": 17,
   "metadata": {
    "collapsed": false
   },
   "outputs": [
    {
     "name": "stdout",
     "output_type": "stream",
     "text": [
      "foul ,  1 ['lord ,  6', 'immature ,  1', 'sinking ,  2', 'oceans ,  1', 'bringing ,  1']\n"
     ]
    }
   ],
   "source": [
    "print unigrams[0], unigrams[5:10]"
   ]
  },
  {
   "cell_type": "code",
   "execution_count": 28,
   "metadata": {
    "collapsed": false
   },
   "outputs": [],
   "source": [
    "#Save the words and counts separately using a dictionary\n",
    "wordFreq = dict()\n",
    "for word in unigrams:\n",
    "    item = word.split(',')\n",
    "    wordFreq[item[0].strip()] = int(item[1].strip())"
   ]
  },
  {
   "cell_type": "markdown",
   "metadata": {},
   "source": [
    "### Finding all words in $C_3$ which has an edit distance $ <= 1 $ for 'bimal' "
   ]
  },
  {
   "cell_type": "code",
   "execution_count": 30,
   "metadata": {
    "collapsed": false
   },
   "outputs": [
    {
     "name": "stdout",
     "output_type": "stream",
     "text": [
      "bimals 1\n",
      "bimal 0\n",
      "bimala 1\n"
     ]
    }
   ],
   "source": [
    "for item in wordFreq.keys():\n",
    "    if levenshtein('bimal',item) <= 1:\n",
    "        print item, levenshtein('bimal',item)"
   ]
  },
  {
   "cell_type": "markdown",
   "metadata": {},
   "source": [
    "### Finding the simialr words to a given word from a corpus"
   ]
  },
  {
   "cell_type": "code",
   "execution_count": 20,
   "metadata": {
    "collapsed": false
   },
   "outputs": [
    {
     "name": "stdout",
     "output_type": "stream",
     "text": [
      "lord 1\n",
      "tore 1\n",
      "torn 1\n",
      "told 1\n",
      "word 1\n"
     ]
    }
   ],
   "source": [
    "for item in wordFreq.keys():\n",
    "    lev = levenshtein('tord',item)\n",
    "    if lev <= 1:\n",
    "        print item, lev"
   ]
  },
  {
   "cell_type": "markdown",
   "metadata": {},
   "source": [
    "### Calculating bigram likelihoods from a corpus"
   ]
  },
  {
   "cell_type": "code",
   "execution_count": 21,
   "metadata": {
    "collapsed": false
   },
   "outputs": [],
   "source": [
    "bigrams =  open('bigrams.csv').read().splitlines()\n",
    "wordBigram = dict()\n",
    "for word in bigrams:\n",
    "    item = word.split(',')\n",
    "    wordBigram[item[0].strip()] = int(item[1].strip())\n",
    "    "
   ]
  },
  {
   "cell_type": "code",
   "execution_count": 33,
   "metadata": {
    "collapsed": false
   },
   "outputs": [
    {
     "name": "stdout",
     "output_type": "stream",
     "text": [
      "8 12\n",
      "0.666666666667\n"
     ]
    }
   ],
   "source": [
    "\n",
    "\n",
    "bi = wordBigram['iron safe']\n",
    "uni = wordFreq['iron']\n",
    "\n",
    "print bi,uni\n",
    "\n",
    "bigramProb = bi/(uni*1.0)\n",
    "print bigramProb"
   ]
  },
  {
   "cell_type": "code",
   "execution_count": 23,
   "metadata": {
    "collapsed": false
   },
   "outputs": [
    {
     "name": "stdout",
     "output_type": "stream",
     "text": [
      "0.00980244307043 <s> sandip\n",
      "0.00905109489051 sandip babu\n",
      "0.000149075730471 babu sang\n",
      "0.000150784077201 sang bande\n",
      "0.00584883023395 bande mataram\n",
      "0.000149970005999 mataram </s>\n",
      "0.000150806816468 </s>\n",
      "1.74932821106e-18\n",
      "0.000904840898809 <s> chandranath\n",
      "0.00180695678362 chandranath babu\n",
      "0.000149075730471 babu asked\n",
      "0.0001495215311 asked for\n",
      "for\n",
      "0.000301477238468 betel leaves\n",
      "0.000150625094141 leaves </s>\n",
      "0.000150806816468 </s>\n",
      "1.65494105455e-21\n",
      "0.00120645453174 <s> poor\n",
      "0.00045051809581 poor bimala\n",
      "0.000297707651087 bimala went\n",
      "0.00014905351021 went to\n",
      "0.000150693188668 to the\n",
      "0.000150715900528 the dressing\n",
      "0.00105342362679 dressing room\n",
      "0.000148345942738 room </s>\n",
      "0.000150806816468 </s>\n",
      "8.56025744882e-29\n"
     ]
    }
   ],
   "source": [
    "wordFreq['<s>'] = 1\n",
    "wordFreq['</s>'] = 1\n",
    "stri2 = ['<s> sandip babu sang bande mataram </s>','<s> chandranath babu asked for betel leaves </s>','<s> poor bimala went to the dressing room </s>']\n",
    "for stri in stri2:\n",
    "    mult = 1.0\n",
    "    for i,item in enumerate(stri.split(' ')):\n",
    "        try:\n",
    "            print (wordBigram[item+' '+stri.split()[i+1]] + 1)/((wordFreq[item] + len(wordFreq.keys()))*1.0),item+' '+stri.split()[i+1]\n",
    "            mult = mult * (wordBigram[item+' '+stri.split()[i+1]] + 1)/((wordFreq[item] + len(wordFreq.keys()))*1.0)\n",
    "        except:\n",
    "            try:\n",
    "                print (1)/((wordFreq[item] + len(wordFreq.keys()))*1.0),item+' '+stri.split()[i+1]\n",
    "                mult = mult * (1)/((wordFreq[item] + len(wordFreq.keys()))*1.0)\n",
    "            except:\n",
    "                print item\n",
    "    print mult"
   ]
  },
  {
   "cell_type": "code",
   "execution_count": 24,
   "metadata": {
    "collapsed": false
   },
   "outputs": [
    {
     "name": "stdout",
     "output_type": "stream",
     "text": [
      "0\n"
     ]
    }
   ],
   "source": [
    "bigramProb = wordBigram['come back']/ wordFreq['come']\n",
    "print bigramProb\n",
    "#Are we missing something"
   ]
  },
  {
   "cell_type": "code",
   "execution_count": 25,
   "metadata": {
    "collapsed": false
   },
   "outputs": [
    {
     "name": "stdout",
     "output_type": "stream",
     "text": [
      "0.00162337662338 6630\n"
     ]
    }
   ],
   "source": [
    "### Add one smoothing\n",
    "add_one = (wordBigram['come back'] + 1.0)/((wordFreq['come']*1.0) + len(wordFreq.keys()))\n",
    "print add_one, len(wordFreq.keys())"
   ]
  },
  {
   "cell_type": "code",
   "execution_count": 26,
   "metadata": {
    "collapsed": false
   },
   "outputs": [
    {
     "ename": "ImportError",
     "evalue": "No module named gensim",
     "output_type": "error",
     "traceback": [
      "\u001b[0;31m---------------------------------------------------------------------------\u001b[0m",
      "\u001b[0;31mImportError\u001b[0m                               Traceback (most recent call last)",
      "\u001b[0;32m<ipython-input-26-0ccb03a26b1d>\u001b[0m in \u001b[0;36m<module>\u001b[0;34m()\u001b[0m\n\u001b[1;32m      2\u001b[0m \u001b[0;34m\u001b[0m\u001b[0m\n\u001b[1;32m      3\u001b[0m \u001b[0;31m#using a package\u001b[0m\u001b[0;34m\u001b[0m\u001b[0;34m\u001b[0m\u001b[0m\n\u001b[0;32m----> 4\u001b[0;31m \u001b[0;32mimport\u001b[0m \u001b[0mgensim\u001b[0m\u001b[0;34m\u001b[0m\u001b[0m\n\u001b[0m\u001b[1;32m      5\u001b[0m \u001b[0;34m\u001b[0m\u001b[0m\n\u001b[1;32m      6\u001b[0m \u001b[0;31m### not working? lets intall\u001b[0m\u001b[0;34m\u001b[0m\u001b[0;34m\u001b[0m\u001b[0m\n",
      "\u001b[0;31mImportError\u001b[0m: No module named gensim"
     ]
    }
   ],
   "source": [
    "### Installing and using functionalities in an external package\n",
    "\n",
    "#using a package\n",
    "import gensim\n",
    "\n",
    "### not working? lets intall"
   ]
  }
 ],
 "metadata": {
  "anaconda-cloud": {},
  "kernelspec": {
   "display_name": "Python [default]",
   "language": "python",
   "name": "python2"
  },
  "language_info": {
   "codemirror_mode": {
    "name": "ipython",
    "version": 2
   },
   "file_extension": ".py",
   "mimetype": "text/x-python",
   "name": "python",
   "nbconvert_exporter": "python",
   "pygments_lexer": "ipython2",
   "version": "2.7.12"
  },
  "nbpresent": {
   "slides": {
    "43f53726-bdea-4b8c-92cc-c45df1ae4e7d": {
     "id": "43f53726-bdea-4b8c-92cc-c45df1ae4e7d",
     "prev": "cb833c84-ecd7-4df3-8d57-29263d171a94",
     "regions": {}
    },
    "cb833c84-ecd7-4df3-8d57-29263d171a94": {
     "id": "cb833c84-ecd7-4df3-8d57-29263d171a94",
     "prev": "fa28560b-9694-43c7-9815-7723d8809ab7",
     "regions": {
      "af0e2ca4-5e2f-467f-9802-64c2cc685670": {
       "attrs": {
        "height": 0.8,
        "width": 0.8,
        "x": 0.1,
        "y": 0.1
       },
       "content": {
        "cell": "bfaef5cb-ebce-4db9-a14f-2faf8af2834e",
        "part": "whole"
       },
       "id": "af0e2ca4-5e2f-467f-9802-64c2cc685670"
      }
     }
    },
    "fa28560b-9694-43c7-9815-7723d8809ab7": {
     "id": "fa28560b-9694-43c7-9815-7723d8809ab7",
     "prev": null,
     "regions": {
      "6f145bac-254d-420b-8cf9-5fc37b28ad38": {
       "attrs": {
        "height": 0.8,
        "width": 0.8,
        "x": 0.1,
        "y": 0.1
       },
       "content": {
        "cell": "ff882d66-e7dd-4a05-a580-781e9acebe5c",
        "part": "whole"
       },
       "id": "6f145bac-254d-420b-8cf9-5fc37b28ad38"
      }
     }
    }
   },
   "themes": {
    "default": "abddc05f-746b-46fd-87b5-8089996299cc",
    "theme": {
     "aaa8b991-e0a5-49dc-adcd-7079769c0572": {
      "id": "aaa8b991-e0a5-49dc-adcd-7079769c0572",
      "palette": {
       "19cc588f-0593-49c9-9f4b-e4d7cc113b1c": {
        "id": "19cc588f-0593-49c9-9f4b-e4d7cc113b1c",
        "rgb": [
         252,
         252,
         252
        ]
       },
       "31af15d2-7e15-44c5-ab5e-e04b16a89eff": {
        "id": "31af15d2-7e15-44c5-ab5e-e04b16a89eff",
        "rgb": [
         68,
         68,
         68
        ]
       },
       "50f92c45-a630-455b-aec3-788680ec7410": {
        "id": "50f92c45-a630-455b-aec3-788680ec7410",
        "rgb": [
         155,
         177,
         192
        ]
       },
       "c5cc3653-2ee1-402a-aba2-7caae1da4f6c": {
        "id": "c5cc3653-2ee1-402a-aba2-7caae1da4f6c",
        "rgb": [
         43,
         126,
         184
        ]
       },
       "efa7f048-9acb-414c-8b04-a26811511a21": {
        "id": "efa7f048-9acb-414c-8b04-a26811511a21",
        "rgb": [
         25.118061674008803,
         73.60176211453744,
         107.4819383259912
        ]
       }
      },
      "rules": {
       "blockquote": {
        "color": "50f92c45-a630-455b-aec3-788680ec7410"
       },
       "code": {
        "font-family": "Anonymous Pro"
       },
       "h1": {
        "color": "c5cc3653-2ee1-402a-aba2-7caae1da4f6c",
        "font-family": "Lato",
        "font-size": 8
       },
       "h2": {
        "color": "c5cc3653-2ee1-402a-aba2-7caae1da4f6c",
        "font-family": "Lato",
        "font-size": 6
       },
       "h3": {
        "color": "50f92c45-a630-455b-aec3-788680ec7410",
        "font-family": "Lato",
        "font-size": 5.5
       },
       "h4": {
        "color": "c5cc3653-2ee1-402a-aba2-7caae1da4f6c",
        "font-family": "Lato",
        "font-size": 5
       },
       "h5": {
        "font-family": "Lato"
       },
       "h6": {
        "font-family": "Lato"
       },
       "h7": {
        "font-family": "Lato"
       },
       "pre": {
        "font-family": "Anonymous Pro",
        "font-size": 4
       }
      },
      "text-base": {
       "font-family": "Merriweather",
       "font-size": 4
      }
     },
     "abddc05f-746b-46fd-87b5-8089996299cc": {
      "id": "abddc05f-746b-46fd-87b5-8089996299cc",
      "palette": {
       "19cc588f-0593-49c9-9f4b-e4d7cc113b1c": {
        "id": "19cc588f-0593-49c9-9f4b-e4d7cc113b1c",
        "rgb": [
         252,
         252,
         252
        ]
       },
       "31af15d2-7e15-44c5-ab5e-e04b16a89eff": {
        "id": "31af15d2-7e15-44c5-ab5e-e04b16a89eff",
        "rgb": [
         68,
         68,
         68
        ]
       },
       "50f92c45-a630-455b-aec3-788680ec7410": {
        "id": "50f92c45-a630-455b-aec3-788680ec7410",
        "rgb": [
         155,
         177,
         192
        ]
       },
       "c5cc3653-2ee1-402a-aba2-7caae1da4f6c": {
        "id": "c5cc3653-2ee1-402a-aba2-7caae1da4f6c",
        "rgb": [
         43,
         126,
         184
        ]
       },
       "efa7f048-9acb-414c-8b04-a26811511a21": {
        "id": "efa7f048-9acb-414c-8b04-a26811511a21",
        "rgb": [
         25.118061674008803,
         73.60176211453744,
         107.4819383259912
        ]
       }
      },
      "rules": {
       "blockquote": {
        "color": "50f92c45-a630-455b-aec3-788680ec7410"
       },
       "code": {
        "font-family": "Anonymous Pro"
       },
       "h1": {
        "color": "c5cc3653-2ee1-402a-aba2-7caae1da4f6c",
        "font-family": "Lato",
        "font-size": 8
       },
       "h2": {
        "color": "c5cc3653-2ee1-402a-aba2-7caae1da4f6c",
        "font-family": "Lato",
        "font-size": 6
       },
       "h3": {
        "color": "50f92c45-a630-455b-aec3-788680ec7410",
        "font-family": "Lato",
        "font-size": 5.5
       },
       "h4": {
        "color": "c5cc3653-2ee1-402a-aba2-7caae1da4f6c",
        "font-family": "Lato",
        "font-size": 5
       },
       "h5": {
        "font-family": "Lato"
       },
       "h6": {
        "font-family": "Lato"
       },
       "h7": {
        "font-family": "Lato"
       },
       "pre": {
        "font-family": "Anonymous Pro",
        "font-size": 4
       }
      },
      "text-base": {
       "font-family": "Merriweather",
       "font-size": 4
      }
     }
    }
   }
  }
 },
 "nbformat": 4,
 "nbformat_minor": 1
}
